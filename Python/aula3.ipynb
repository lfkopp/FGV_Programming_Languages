{
 "cells": [
  {
   "cell_type": "code",
   "execution_count": 89,
   "metadata": {},
   "outputs": [
    {
     "name": "stdout",
     "output_type": "stream",
     "text": [
      "{'id': 'a714b0aa-85de-4e89-b320-19ee7162b44a', 'feedId': 'b904b430-123a-4f93-8cf4-5365adf97892', 'type': 'basico', 'aggregatedPosts': [], 'lastPublication': '2018-01-15T12:55:39.998418502Z', 'publication': '2018-01-15T12:55:39.998418502Z', 'content': {'chapeu': {'label': 'Lava Jato'}, 'section': 'São Paulo', 'summary': 'Outros 6 foram indiciados, entre eles o ex-tesoureiro do PT João Vaccari Neto.', 'title': 'Haddad é indiciado pela PF por caixa 2 em campanha para a Prefeitura de SP', 'url': 'https://g1.globo.com/sp/sao-paulo/noticia/pf-indicia-haddad-por-caixa-2-em-campanha-para-a-prefeitura-de-sp.ghtml'}, 'isPinned': True, 'pinned': {'cascade': True, 'position': 1, 'time': '2018-01-15T13:19:14.776525048Z', 'isForePost': False}, 'draft': False, 'postHash': '4c5b7e8416ef2cc55970c3e5773f6622', 'created': '2018-01-15T12:55:43.064Z', 'modified': '2018-01-15T13:19:15.555Z', 'tenantId': 'g1', 'versionId': 'ad3403da-2a13-4db2-b199-70e9a8be431f', 'age': 4853}\n",
      "['2018-01-15 12:55:39', 'https://g1.globo.com/sp/sao-paulo/noticia/pf-indicia-haddad-por-caixa-2-em-campanha-para-a-prefeitura-de-sp.ghtml', '']\n",
      "['2018-01-15 00:53:57', 'https://g1.globo.com/vc-no-g1/noticia/que-brasil-voce-quer-para-o-futuro-saiba-como-enviar-o-seu-video.ghtml', 'http://s2.glbimg.com/IzFICZzNdtErrJ23hD1_rU3M_7U=/0x0:1080x608/1080x608/s.glbimg.com/jo/g1/f/original/2018/01/12/o-brasl-que-eu-quero-_-destaque_2.jpg']\n",
      "['2018-01-15 10:31:36', 'https://g1.globo.com/carros/caminhoes/noticia/setor-de-caminhoes-reage-em-2017-mas-fabricas-operam-com-25-da-capacidade.ghtml', 'http://i.s3.glbimg.com/v1/AUTH_59edd422c0c84a879bd37670ae4f538a/internal_photos/bs/2018/Z/P/JoPABjRBWeMMk5pqrEFw/man-caminhoes-resende-2.jpg']\n",
      "['2018-01-15 10:43:33', 'https://g1.globo.com/economia/noticia/previa-do-pib-do-banco-central-registra-crescimento-de-049-em-novembro.ghtml', '']\n",
      "['2018-01-15 12:56:13', 'https://g1.globo.com/politica/blog/andreia-sadi/post/2018/01/15/temer-se-reune-com-o-diretor-geral-da-policia-federal.ghtml', 'http://s2.glbimg.com/4u_-i5ckuXenLis0kng1syzkoYg=/0x0:1900x1268/1900x1268/s.glbimg.com/jo/g1/f/original/2017/12/28/brazil-temer-pardon_2017-12-28t150450z_940690186_rc1e06da61c0_rtrmadp_3_brazil-temer-pardon_adriano_machado_reuters.jpg']\n",
      "['2018-01-15 13:18:46', 'https://g1.globo.com/educacao/noticia/prouni-2018-inscricoes-poderao-ser-feitas-entre-6-e-9-de-fevereiro.ghtml', 'http://i.s3.glbimg.com/v1/AUTH_59edd422c0c84a879bd37670ae4f538a/internal_photos/bs/2017/I/m/oY1lMYQOWKRv086catBg/prouni.jpg']\n",
      "['2018-01-15 09:08:57', 'https://g1.globo.com/rj/rio-de-janeiro/noticia/gravida-baleada-no-rj-e-bebe-permanecem-com-quadro-de-saude-grave.ghtml', 'http://s01.video.glbimg.com/x720/6421018.jpg']\n",
      "['2018-01-15 09:11:51', 'https://g1.globo.com/rj/rio-de-janeiro/noticia/adolescente-morre-apos-ser-baleado-na-zona-oeste-do-rio.ghtml', 'http://i.s3.glbimg.com/v1/AUTH_59edd422c0c84a879bd37670ae4f538a/internal_photos/bs/2018/r/6/sfkjN2RRKLrwWHpcNonA/menor.jpg']\n",
      "['2018-01-15 13:47:30', 'https://g1.globo.com/mg/grande-minas/noticia/infelizmente-aconteceu-mas-eu-nao-tive-culpa-diz-motorista-suspeito-de-causar-acidente-que-deixou-13-mortos-na-br-251.ghtml', 'http://i.s3.glbimg.com/v1/AUTH_59edd422c0c84a879bd37670ae4f538a/internal_photos/bs/2018/B/0/VayvkTSfeMYrYJTUNcdQ/motorista-251.jpg']\n",
      "['0001-01-01 00:00:00', '', '']\n",
      "['2018-01-15 04:26:28', 'https://g1.globo.com/mundo/noticia/nao-sou-racista-diz-trump-apos-polemica-sobre-hatianos-e-africanos.ghtml', 'http://i.s3.glbimg.com/v1/AUTH_59edd422c0c84a879bd37670ae4f538a/internal_photos/bs/2018/C/2/derd3mSMyEp7DaaDwg0g/trump-1501.jpg']\n",
      "['2018-01-15 14:16:18', 'https://g1.globo.com/pr/parana/noticia/liquido-toxico-em-garrafa-de-tequila-era-produto-de-limpeza-diz-dono-de-bar-tres-pessoas-se-queimaram.ghtml', 'http://i.s3.glbimg.com/v1/AUTH_59edd422c0c84a879bd37670ae4f538a/internal_photos/bs/2018/B/Y/WKaXYPRMuAn6PPJFUdzw/tres-pessoas-sofrem-queimaduras-ao-tomar-liquido-toxico-em-bar-de-curitiba-diz-policia.jpg']\n",
      "['2018-01-15 14:10:00', 'https://g1.globo.com/sp/sao-paulo/noticia/criminosos-roubam-banco-e-fazem-gerente-como-refem-na-zona-sul-de-sp.ghtml', '']\n",
      "['2018-01-15 13:54:27', 'https://g1.globo.com/al/alagoas/noticia/precisa-ser-revisto-diz-juiz-de-alagoas-apos-sindicato-admitir-que-delivery-no-presidio-e-comum-entre-servidores.ghtml', 'http://s02.video.glbimg.com/x720/6421729.jpg']\n",
      "['2018-01-15 13:36:44', 'https://g1.globo.com/turismo-e-viagem/noticia/numero-de-turistas-internacionais-cresce-7.ghtml', 'http://s.glbimg.com/jo/g1/f/original/2014/12/09/2014-12-09t132220z_15515502.jpg']\n",
      "['2018-01-15 13:35:43', 'https://g1.globo.com/rj/rio-de-janeiro/noticia/fuzis-apreendidos-ha-7-meses-no-rio-estao-parados-em-deposito-policia-pede-doacao.ghtml', 'http://i.s3.glbimg.com/v1/AUTH_59edd422c0c84a879bd37670ae4f538a/internal_photos/bs/2017/s/B/4cB2X0Tx2fuJ3meq4bOA/whatsapp-image-2017-06-01-at-2.54.40-pm-1-.jpeg']\n",
      "['2018-01-15 13:32:48', 'https://g1.globo.com/rs/rio-grande-do-sul/noticia/latrocinios-caem-262-e-estupros-de-mulher-e-vulneravel-aumentam-55-no-rs-diz-ssp.ghtml', 'http://i.s3.glbimg.com/v1/AUTH_59edd422c0c84a879bd37670ae4f538a/internal_photos/bs/2018/8/8/uAgeJfSGqUHAMtlg5KtA/whatsapp-image-2018-01-15-at-10.27.39.jpeg']\n",
      "['2018-01-15 13:20:09', 'https://g1.globo.com/sp/bauru-marilia/noticia/boliviana-e-flagrada-com-cocaina-em-panos-amarrados-nas-pernas-em-assis.ghtml', 'http://i.s3.glbimg.com/v1/AUTH_59edd422c0c84a879bd37670ae4f538a/internal_photos/bs/2018/Y/m/y4xpJ0RsG4cYRGy5BR3A/policia-rodoviaria-assis-1-.jpg']\n",
      "['2018-01-15 13:16:53', 'https://g1.globo.com/mundo/noticia/boko-haram-divulga-video-que-supostamente-mostra-meninas-sequestradas-de-chibok.ghtml', 'http://i.s3.glbimg.com/v1/AUTH_59edd422c0c84a879bd37670ae4f538a/internal_photos/bs/2018/3/E/ZV2NF6TAAmpER1OTZQnQ/000-wp2ip.jpg']\n",
      "['2018-01-15 12:59:42', 'https://g1.globo.com/df/distrito-federal/noticia/motorista-que-invadiu-casa-e-matou-crianca-de-3-anos-tentou-suicidio-diz-policia.ghtml', 'http://i.s3.glbimg.com/v1/AUTH_59edd422c0c84a879bd37670ae4f538a/internal_photos/bs/2017/z/X/icZd5UTIyA6v90d1WQpg/carro-casa.jpg']\n",
      "['2018-01-15 12:59:34', 'https://g1.globo.com/ba/bahia/noticia/equipamento-de-show-de-caetano-velloso-e-roubado-na-bahia.ghtml', 'http://i.s3.glbimg.com/v1/AUTH_59edd422c0c84a879bd37670ae4f538a/internal_photos/bs/2017/T/W/y5Dd9WSPyuUCacXHO12Q/caetanovelosofernandoyoung.jpg']\n"
     ]
    }
   ],
   "source": [
    "import requests\n",
    "import json\n",
    "\n",
    "############# G1 ####################################\n",
    "### https://falkor-cda.bastian.globo.com/feeds/b904b430-123a-4f93-8cf4-5365adf97892/posts/page/1\n",
    "### https://comentarios.globo.com/comentarios/%40%40jornalismo%40%40g1%40%40sp%40%40sao-paulo/multi-content%40%40318d2ab0-78da-4152-9d6a-c519e29f3a07/https%3A%40%40%40%40g1.globo.com%40%40sp%40%40sao-paulo%40%40noticia%40%40pf-indicia-haddad-por-caixa-2-em-campanha-para-a-prefeitura-de-sp.ghtml/shorturl/PF%20indicia%20Haddad%20por%20usar%20caixa%202%20em%20campanha%20para%20a%20Prefeitura%20de%20S%C3%A3o%20Paulo/1.json\n",
    "### facebook.com/profile.php?id=\n",
    "### https://graph.facebook.com/v2.7/1507833879263297/picture\n",
    "### https://graph.facebook.com/100000632217856/picture?type=large&redirect=false\n",
    "### http://graph.facebook.com/100000632217856/picture?width=200&height=600\n",
    "\n",
    "\n",
    "lista = []\n",
    "for num in range(1,2):\n",
    "    url = 'http://falkor-cda.bastian.globo.com/feeds/b904b430-123a-4f93-8cf4-5365adf97892/posts/page/'+str(num)\n",
    "    pagina = requests.get(url)\n",
    "    x = json.loads(pagina.text)\n",
    "    #print(x['items'][0])\n",
    "    for y in x['items']:\n",
    "        try: data = str(y['publication'][:19]).replace(\"T\",\" \")\n",
    "        except: data = ''\n",
    "        try: link = str(y['content']['url'])\n",
    "        except: link = ''\n",
    "        try: imagem = str(y['content']['image']['url'])\n",
    "        except: imagem = ''\n",
    "        lista.append([data,link,imagem])\n",
    "\n",
    "#for noti in lista:   \n",
    "    #print(noti)\n"
   ]
  },
  {
   "cell_type": "code",
   "execution_count": 1,
   "metadata": {},
   "outputs": [
    {
     "name": "stdout",
     "output_type": "stream",
     "text": [
      "\u001b[1;1;41m                                                                                                                         \u001b[0m\u001b[1;37;47m   \u001b[0m\n",
      "\u001b[1;1;41m10o                                                                                                                      \u001b[0m\u001b[1;37;47m   \u001b[0m\n",
      "\u001b[1;1;41m                                                                                                                         \u001b[0m\u001b[1;37;47m   \u001b[0m\n",
      "\u001b[1;1;42m                                                                                                                         \u001b[0m\u001b[1;37;47m   \u001b[0m\n",
      "\u001b[1;1;42m20o                                                                                                                      \u001b[0m\u001b[1;37;47m   \u001b[0m\n",
      "\u001b[1;1;42m                                                                                                                         \u001b[0m\u001b[1;37;47m   \u001b[0m\n",
      "\u001b[1;1;43m                                                                                                                         \u001b[0m\u001b[1;37;47m   \u001b[0m\n",
      "\u001b[1;1;43m30o                                                                                                                      \u001b[0m\u001b[1;37;47m   \u001b[0m\n",
      "\u001b[1;1;43m                                                                                                                         \u001b[0m\u001b[1;37;47m   \u001b[0m\n",
      "\u001b[1;1;44m                                                                                                                         \u001b[0m\u001b[1;37;47m   \u001b[0m\n",
      "\u001b[1;1;44m40o                                                                                                                      \u001b[0m\u001b[1;37;47m   \u001b[0m\n",
      "\u001b[1;1;44m                                                                                                                         \u001b[0m\u001b[1;37;47m   \u001b[0m\n",
      "\u001b[1;1;45m                                                                                                                         \u001b[0m\u001b[1;37;47m   \u001b[0m\n",
      "\u001b[1;1;45m50o                                                                                                                      \u001b[0m\u001b[1;37;47m   \u001b[0m\n",
      "\u001b[1;1;45m                                                                                                                         \u001b[0m\u001b[1;37;47m   \u001b[0m\n",
      "\u001b[1;1;46m                                                                                                                         \u001b[0m\u001b[1;37;47m   \u001b[0m\n",
      "\u001b[1;1;46m60o                                                                                                                      \u001b[0m\u001b[1;37;47m   \u001b[0m\n",
      "\u001b[1;1;46m                                                                                                                         \u001b[0m\u001b[1;37;47m   \u001b[0m\n"
     ]
    },
    {
     "ename": "KeyboardInterrupt",
     "evalue": "",
     "output_type": "error",
     "traceback": [
      "\u001b[1;31m---------------------------------------------------------------------------\u001b[0m",
      "\u001b[1;31mKeyboardInterrupt\u001b[0m                         Traceback (most recent call last)",
      "\u001b[1;32m<ipython-input-1-15f6177b449f>\u001b[0m in \u001b[0;36m<module>\u001b[1;34m()\u001b[0m\n\u001b[0;32m     15\u001b[0m \u001b[1;33m\u001b[0m\u001b[0m\n\u001b[0;32m     16\u001b[0m \u001b[1;33m\u001b[0m\u001b[0m\n\u001b[1;32m---> 17\u001b[1;33m \u001b[0mwinsound\u001b[0m\u001b[1;33m.\u001b[0m\u001b[0mPlaySound\u001b[0m\u001b[1;33m(\u001b[0m\u001b[1;34m'C:\\_kopp\\Dropbox\\Filipe\\_github\\FGV_Programming_Languages\\Python\\horse.wav'\u001b[0m\u001b[1;33m,\u001b[0m \u001b[0mwinsound\u001b[0m\u001b[1;33m.\u001b[0m\u001b[0mSND_FILENAME\u001b[0m\u001b[1;33m)\u001b[0m\u001b[1;33m\u001b[0m\u001b[0m\n\u001b[0m\u001b[0;32m     18\u001b[0m \u001b[0mwinsound\u001b[0m\u001b[1;33m.\u001b[0m\u001b[0mPlaySound\u001b[0m\u001b[1;33m(\u001b[0m\u001b[1;34m'C:\\_kopp\\Dropbox\\Filipe\\_github\\FGV_Programming_Languages\\Python\\horse-gallop.wav'\u001b[0m\u001b[1;33m,\u001b[0m \u001b[0mwinsound\u001b[0m\u001b[1;33m.\u001b[0m\u001b[0mSND_FILENAME\u001b[0m \u001b[1;33m|\u001b[0m \u001b[0mwinsound\u001b[0m\u001b[1;33m.\u001b[0m\u001b[0mSND_ASYNC\u001b[0m \u001b[1;33m|\u001b[0m \u001b[0mwinsound\u001b[0m\u001b[1;33m.\u001b[0m\u001b[0mSND_LOOP\u001b[0m\u001b[1;33m)\u001b[0m\u001b[1;33m\u001b[0m\u001b[0m\n\u001b[0;32m     19\u001b[0m \u001b[1;33m\u001b[0m\u001b[0m\n",
      "\u001b[1;31mKeyboardInterrupt\u001b[0m: "
     ]
    }
   ],
   "source": [
    "from IPython.display import clear_output\n",
    "import random\n",
    "import time\n",
    "\n",
    "import winsound\n",
    "\n",
    "cor = 1\n",
    "pista = 118\n",
    "cavalos = 6\n",
    "pos = [0 for x in range(cavalos)]\n",
    "for y in range(cavalos):\n",
    "    print(\"\\033[1;%s;%sm%s\\033[0m\\033[1;37;47m   \\033[0m\" % (cor,41+y,str(' ' * (pista+3))))\n",
    "    print(\"\\033[1;%s;%sm%s\\033[0m\\033[1;37;47m   \\033[0m\" % (cor,41+y,str(y+1) +  (' ' * pos[y]) +\"0o\"+  (' ' * (pista-pos[y]))))\n",
    "    print(\"\\033[1;%s;%sm%s\\033[0m\\033[1;37;47m   \\033[0m\" % (cor,41+y,str(' ' * (pista+3))))\n",
    "\n",
    "\n",
    "winsound.PlaySound('C:\\_kopp\\Dropbox\\Filipe\\_github\\FGV_Programming_Languages\\Python\\horse.wav', winsound.SND_FILENAME)\n",
    "winsound.PlaySound('C:\\_kopp\\Dropbox\\Filipe\\_github\\FGV_Programming_Languages\\Python\\horse-gallop.wav', winsound.SND_FILENAME | winsound.SND_ASYNC | winsound.SND_LOOP)\n",
    "\n",
    "\n",
    "\n",
    "while max(pos)<pista:\n",
    "    clear_output(True)\n",
    "    pos[random.randint(0,cavalos-1)] += random.randint(0,3)\n",
    "    for y in range(cavalos):\n",
    "        if pos[y]==max(pos):\n",
    "            cor = 31\n",
    "            ganhador = y+1\n",
    "        else:\n",
    "            cor = 32\n",
    "        print(\"\\033[1;%s;%sm%s\\033[0m\\033[1;37;47m   \\033[0m\" % (cor,41+y,str(' ' * (pista+3))))\n",
    "        print(\"\\033[1;%s;%sm%s\\033[0m\\033[1;37;47m   \\033[0m\" % (cor,41+y,str(y+1) +  (' ' * pos[y]) +\"0o\"+  (' ' * (pista-pos[y]))))\n",
    "        print(\"\\033[1;%s;%sm%s\\033[0m\\033[1;37;47m   \\033[0m\" % (cor,41+y,str(' ' * (pista+3))))\n",
    "    time.sleep(0.05)\n",
    "\n",
    "    \n",
    "    \n",
    "winsound.PlaySound(None, winsound.SND_FILENAME | winsound.SND_ASYNC | winsound.SND_LOOP)\n",
    "\n",
    "print(\"o ganhador foi o cavalo \" + str(ganhador))\n"
   ]
  },
  {
   "cell_type": "code",
   "execution_count": 21,
   "metadata": {},
   "outputs": [
    {
     "name": "stdout",
     "output_type": "stream",
     "text": [
      "\u001b[1;32;41m                                                                                                                           \u001b[0m\u001b[1;37;47m   \u001b[0m\n",
      "\u001b[1;32;41m1                                                                                                       0o                 \u001b[0m\u001b[1;37;47m   \u001b[0m\n",
      "\u001b[1;32;41m                                                                                                                           \u001b[0m\u001b[1;37;47m   \u001b[0m\n",
      "\u001b[1;32;42m                                                                                                                           \u001b[0m\u001b[1;37;47m   \u001b[0m\n",
      "\u001b[1;32;42m2                                                                                                     0o                   \u001b[0m\u001b[1;37;47m   \u001b[0m\n",
      "\u001b[1;32;42m                                                                                                                           \u001b[0m\u001b[1;37;47m   \u001b[0m\n",
      "\u001b[1;31;43m                                                                                                                           \u001b[0m\u001b[1;37;47m   \u001b[0m\n",
      "\u001b[1;31;43m3                                                                                                                      0o  \u001b[0m\u001b[1;37;47m   \u001b[0m\n",
      "\u001b[1;31;43m                                                                                                                           \u001b[0m\u001b[1;37;47m   \u001b[0m\n",
      "\u001b[1;32;44m                                                                                                                           \u001b[0m\u001b[1;37;47m   \u001b[0m\n",
      "\u001b[1;32;44m4                                                                                      0o                                  \u001b[0m\u001b[1;37;47m   \u001b[0m\n",
      "\u001b[1;32;44m                                                                                                                           \u001b[0m\u001b[1;37;47m   \u001b[0m\n",
      "\u001b[1;32;45m                                                                                                                           \u001b[0m\u001b[1;37;47m   \u001b[0m\n",
      "\u001b[1;32;45m5                                                                                                      0o                  \u001b[0m\u001b[1;37;47m   \u001b[0m\n",
      "\u001b[1;32;45m                                                                                                                           \u001b[0m\u001b[1;37;47m   \u001b[0m\n",
      "\u001b[1;32;46m                                                                                                                           \u001b[0m\u001b[1;37;47m   \u001b[0m\n",
      "\u001b[1;32;46m6                                                                                                              0o          \u001b[0m\u001b[1;37;47m   \u001b[0m\n",
      "\u001b[1;32;46m                                                                                                                           \u001b[0m\u001b[1;37;47m   \u001b[0m\n"
     ]
    }
   ],
   "source": [
    "from IPython.display import clear_output\n",
    "import random\n",
    "import time\n",
    "import winsound\n",
    "\n",
    "pista = 120\n",
    "cavalos = 6\n",
    "pos = [0 for x in range(cavalos)]\n",
    "\n",
    "def atualiza(pos,pista):\n",
    "    while True:\n",
    "        yield pos\n",
    "        pos[random.randint(0,len(pos)-1)] += random.randint(0,3)\n",
    "\n",
    "def exibe(pos,pista):\n",
    "    for y in range(len(pos)):\n",
    "        if pos[y] == max(pos): cor = 31\n",
    "        else: cor = 32\n",
    "        print(\"\\033[1;%s;%sm%s\\033[0m\\033[1;37;47m   \\033[0m\" % (cor,41+y,str(' ' * (pista+3))))\n",
    "        print(\"\\033[1;%s;%sm%s\\033[0m\\033[1;37;47m   \\033[0m\" % (cor,41+y,str(y+1) +  (' ' * pos[y]) +\"0o\"+  (' ' * (pista-pos[y]))))\n",
    "        print(\"\\033[1;%s;%sm%s\\033[0m\\033[1;37;47m   \\033[0m\" % (cor,41+y,str(' ' * (pista+3))))\n",
    "\n",
    "corrida = atualiza(pos,pista)\n",
    "exibe(pos,pista)\n",
    "winsound.PlaySound('C:\\_kopp\\Dropbox\\Filipe\\_github\\FGV_Programming_Languages\\Python\\horse.wav', winsound.SND_FILENAME)\n",
    "winsound.PlaySound('C:\\_kopp\\Dropbox\\Filipe\\_github\\FGV_Programming_Languages\\Python\\horse-gallop.wav', winsound.SND_FILENAME | winsound.SND_ASYNC | winsound.SND_LOOP)\n",
    "\n",
    "while max(pos) < pista:\n",
    "    exibe(pos,pista)\n",
    "    next(corrida)\n",
    "    time.sleep(.02)\n",
    "    clear_output(True)\n",
    "\n",
    "winsound.PlaySound(None, winsound.SND_FILENAME)"
   ]
  },
  {
   "cell_type": "code",
   "execution_count": null,
   "metadata": {
    "collapsed": true
   },
   "outputs": [],
   "source": []
  }
 ],
 "metadata": {
  "kernelspec": {
   "display_name": "Python 3",
   "language": "python",
   "name": "python3"
  },
  "language_info": {
   "codemirror_mode": {
    "name": "ipython",
    "version": 3
   },
   "file_extension": ".py",
   "mimetype": "text/x-python",
   "name": "python",
   "nbconvert_exporter": "python",
   "pygments_lexer": "ipython3",
   "version": "3.6.1"
  }
 },
 "nbformat": 4,
 "nbformat_minor": 2
}
