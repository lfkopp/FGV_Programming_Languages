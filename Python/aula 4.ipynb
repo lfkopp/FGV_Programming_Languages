{
 "cells": [
  {
   "cell_type": "code",
   "execution_count": 25,
   "metadata": {},
   "outputs": [
    {
     "name": "stdout",
     "output_type": "stream",
     "text": [
      "Wall time: 18.3 s\n"
     ]
    }
   ],
   "source": [
    "%%time\n",
    "seq6 = [123,234,345,456,567]\n",
    "a1 = [x**200000 for x in seq6]"
   ]
  },
  {
   "cell_type": "code",
   "execution_count": 26,
   "metadata": {},
   "outputs": [
    {
     "name": "stdout",
     "output_type": "stream",
     "text": [
      "Wall time: 19.3 s\n"
     ]
    }
   ],
   "source": [
    "%%time\n",
    "seq6 = [123,234,345,456,567]\n",
    "a2 = [list(map(lambda x:x**200000,seq6))]"
   ]
  },
  {
   "cell_type": "code",
   "execution_count": 27,
   "metadata": {},
   "outputs": [
    {
     "name": "stdout",
     "output_type": "stream",
     "text": [
      "Wall time: 23.3 s\n"
     ]
    }
   ],
   "source": [
    "%%time\n",
    "seq6 = [123,234,345,456,567]\n",
    "a3 = []\n",
    "for x in seq6:\n",
    "    a3.append(x**200000)"
   ]
  },
  {
   "cell_type": "code",
   "execution_count": 5,
   "metadata": {},
   "outputs": [
    {
     "name": "stdout",
     "output_type": "stream",
     "text": [
      "1725\n",
      "Wall time: 1 ms\n"
     ]
    }
   ],
   "source": [
    "%%time\n",
    "from  functools import *\n",
    "seq6 = [123,234,345,456,567]\n",
    "a4 = reduce(lambda x,y: x+y,seq6)\n",
    "print(a4)"
   ]
  },
  {
   "cell_type": "code",
   "execution_count": 7,
   "metadata": {},
   "outputs": [
    {
     "name": "stdout",
     "output_type": "stream",
     "text": [
      "gfedcba\n",
      "Wall time: 1 ms\n"
     ]
    }
   ],
   "source": [
    "%%time\n",
    "from  functools import *\n",
    "seq7 = 'abcdefg'\n",
    "a5 = reduce(lambda x,y: y+x,seq7)\n",
    "print(a5)"
   ]
  },
  {
   "cell_type": "code",
   "execution_count": 12,
   "metadata": {},
   "outputs": [
    {
     "name": "stdout",
     "output_type": "stream",
     "text": [
      "['a', 'h', 'b', 'h', 'k', 'k', 'j', 'k', 'j', 'b', 'a', 'j']\n"
     ]
    }
   ],
   "source": [
    "string = 'ahbHBhHABKHBkAJBJKBAkjBkJBAJAAjBAbajBAKBAA32423'\n",
    "resp = list(filter(lambda x:x.islower(),string))\n",
    "print(resp)"
   ]
  },
  {
   "cell_type": "markdown",
   "metadata": {},
   "source": [
    "<b>CLASSES</b>"
   ]
  },
  {
   "cell_type": "code",
   "execution_count": 47,
   "metadata": {},
   "outputs": [
    {
     "name": "stdout",
     "output_type": "stream",
     "text": [
      "olá1\n",
      "x 5\n",
      "y 1\n",
      "olá5\n"
     ]
    }
   ],
   "source": [
    "class MyClass:\n",
    "    atrib1 = '1'\n",
    "    atrib2 = '2'\n",
    "    \n",
    "    def metodo(self):\n",
    "        return \"olá\" + str(self.atrib1)\n",
    "    \n",
    "x = MyClass()\n",
    "y = MyClass()\n",
    "\n",
    "print(x.metodo())\n",
    "\n",
    "x.atrib1 = 5\n",
    "\n",
    "print(\"x\",x.atrib1)\n",
    "print(\"y\",y.atrib1)\n",
    "\n",
    "print(x.metodo())\n"
   ]
  },
  {
   "cell_type": "code",
   "execution_count": 75,
   "metadata": {},
   "outputs": [
    {
     "name": "stdout",
     "output_type": "stream",
     "text": [
      "5\n",
      "6\n"
     ]
    },
    {
     "data": {
      "text/plain": [
       "['__class__',\n",
       " '__delattr__',\n",
       " '__dict__',\n",
       " '__dir__',\n",
       " '__doc__',\n",
       " '__eq__',\n",
       " '__format__',\n",
       " '__ge__',\n",
       " '__getattribute__',\n",
       " '__gt__',\n",
       " '__hash__',\n",
       " '__init__',\n",
       " '__init_subclass__',\n",
       " '__le__',\n",
       " '__lt__',\n",
       " '__module__',\n",
       " '__ne__',\n",
       " '__new__',\n",
       " '__reduce__',\n",
       " '__reduce_ex__',\n",
       " '__repr__',\n",
       " '__setattr__',\n",
       " '__sizeof__',\n",
       " '__str__',\n",
       " '__subclasshook__',\n",
       " '__weakref__',\n",
       " 'vai']"
      ]
     },
     "execution_count": 75,
     "metadata": {},
     "output_type": "execute_result"
    }
   ],
   "source": [
    "class MyComplex:\n",
    "    \n",
    "    def __init__(self, real, imag):\n",
    "        self.r = real\n",
    "        self.i = imag\n",
    "        print(self.r + self.i)\n",
    "    def vai(self):\n",
    "        print(self.r*self.i)\n",
    "    \n",
    "x = MyComplex(3,2)\n",
    "\n",
    "x.vai()\n",
    "\n",
    "dir(MyComplex)"
   ]
  },
  {
   "cell_type": "code",
   "execution_count": 77,
   "metadata": {},
   "outputs": [
    {
     "data": {
      "text/plain": [
       "['__add__',\n",
       " '__class__',\n",
       " '__contains__',\n",
       " '__delattr__',\n",
       " '__delitem__',\n",
       " '__dir__',\n",
       " '__doc__',\n",
       " '__eq__',\n",
       " '__format__',\n",
       " '__ge__',\n",
       " '__getattribute__',\n",
       " '__getitem__',\n",
       " '__gt__',\n",
       " '__hash__',\n",
       " '__iadd__',\n",
       " '__imul__',\n",
       " '__init__',\n",
       " '__init_subclass__',\n",
       " '__iter__',\n",
       " '__le__',\n",
       " '__len__',\n",
       " '__lt__',\n",
       " '__mul__',\n",
       " '__ne__',\n",
       " '__new__',\n",
       " '__reduce__',\n",
       " '__reduce_ex__',\n",
       " '__repr__',\n",
       " '__reversed__',\n",
       " '__rmul__',\n",
       " '__setattr__',\n",
       " '__setitem__',\n",
       " '__sizeof__',\n",
       " '__str__',\n",
       " '__subclasshook__',\n",
       " 'append',\n",
       " 'clear',\n",
       " 'copy',\n",
       " 'count',\n",
       " 'extend',\n",
       " 'index',\n",
       " 'insert',\n",
       " 'pop',\n",
       " 'remove',\n",
       " 'reverse',\n",
       " 'sort']"
      ]
     },
     "execution_count": 77,
     "metadata": {},
     "output_type": "execute_result"
    }
   ],
   "source": [
    "u = [1,2]\n",
    "dir(u)"
   ]
  },
  {
   "cell_type": "code",
   "execution_count": 147,
   "metadata": {},
   "outputs": [
    {
     "name": "stdout",
     "output_type": "stream",
     "text": [
      "ford fiesta 1.0 10 200 40 0\n",
      "ford fiesta 1.0 10 200 10.0 300\n",
      "ford fiesta 1.0 10 200 200 300\n",
      "ford fiesta 1.0 10 200 200 300\n",
      "ford fiesta 1.0 10 200 0 2300\n"
     ]
    }
   ],
   "source": [
    "class carro:\n",
    "\n",
    "    def imprime(self):\n",
    "        print(self.modelo,self.consumo,self.capacidade,self.combustivel,self.odometro)\n",
    "\n",
    "        \n",
    "    def __init__(self,modelo,consumo,capacidade,combustivel=40,fabricacao=0):\n",
    "        self.modelo = modelo\n",
    "        self.consumo = consumo\n",
    "        self.capacidade = capacidade\n",
    "        self.combustivel = combustivel\n",
    "        self.odometro = 0\n",
    "        self.imprime()\n",
    "\n",
    "    def anda(self,km):\n",
    "        self.combustivel = max(0,self.combustivel - km / self.consumo)\n",
    "        self.odometro += km\n",
    "        self.imprime()\n",
    "        \n",
    "    def abastece(self,qtd=0):\n",
    "        if qtd == 0 : qtd = self.capacidade\n",
    "        self.combustivel=min(self.capacidade,self.combustivel + qtd)\n",
    "        print(self.modelo,self.consumo,self.capacidade,self.combustivel,self.odometro)\n",
    "        self.imprime()\n",
    "        \n",
    "    def autonomia(self):\n",
    "        return self.combustivel * self.consumo\n",
    "        \n",
    "x = carro(\"ford fiesta 1.0\",10,200)\n",
    "\n",
    "x.anda(300)\n",
    "x.abastece()\n",
    "\n",
    "x.autonomia()\n",
    "\n",
    "x.anda(x.autonomia())"
   ]
  }
 ],
 "metadata": {
  "kernelspec": {
   "display_name": "Python 3",
   "language": "python",
   "name": "python3"
  },
  "language_info": {
   "codemirror_mode": {
    "name": "ipython",
    "version": 3
   },
   "file_extension": ".py",
   "mimetype": "text/x-python",
   "name": "python",
   "nbconvert_exporter": "python",
   "pygments_lexer": "ipython3",
   "version": "3.6.1"
  }
 },
 "nbformat": 4,
 "nbformat_minor": 2
}
